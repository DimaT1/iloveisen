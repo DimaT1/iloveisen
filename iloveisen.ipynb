{
 "cells": [
  {
   "cell_type": "markdown",
   "metadata": {
    "slideshow": {
     "slide_type": "slide"
    }
   },
   "source": [
    "# Игра в ассоциации"
   ]
  },
  {
   "cell_type": "markdown",
   "metadata": {
    "slideshow": {
     "slide_type": "slide"
    }
   },
   "source": [
    "# Снег"
   ]
  },
  {
   "cell_type": "markdown",
   "metadata": {
    "slideshow": {
     "slide_type": "fragment"
    }
   },
   "source": [
    "![image.png](guess.png)"
   ]
  },
  {
   "cell_type": "markdown",
   "metadata": {
    "slideshow": {
     "slide_type": "slide"
    }
   },
   "source": [
    "## Структура"
   ]
  },
  {
   "cell_type": "markdown",
   "metadata": {
    "slideshow": {
     "slide_type": "fragment"
    }
   },
   "source": [
    "1. Смыслы и вектора\n",
    "\n",
    "2. Машинки и деревья"
   ]
  },
  {
   "cell_type": "markdown",
   "metadata": {
    "slideshow": {
     "slide_type": "slide"
    }
   },
   "source": [
    "## 1. Смыслы и вектора"
   ]
  },
  {
   "cell_type": "markdown",
   "metadata": {
    "slideshow": {
     "slide_type": "slide"
    }
   },
   "source": [
    "__Компью́терная лингви́стика__ – это наука о том, как работать с языком (не всегда естественным), с помощью компьютерных методов."
   ]
  },
  {
   "cell_type": "markdown",
   "metadata": {
    "slideshow": {
     "slide_type": "skip"
    }
   },
   "source": [
    "К искусственным языкам относятся эсперанто, языки программирования, нотная грамота, азбука Морзе, шифровальные системы, жаргон и прочие."
   ]
  },
  {
   "cell_type": "markdown",
   "metadata": {
    "slideshow": {
     "slide_type": "slide"
    }
   },
   "source": [
    "## 1.1. Уровни компьютерного анализа языка\n",
    "\n",
    "- Фонетика (какие слова имеют схожее звучание?)\n",
    "- Морфология (какие есть составные части слова?)\n",
    "- Синтаксис (какие слова выполняют одну и ту же функцию в предложении?)\n",
    "- Семантика (какой смысл несёт в себе слово?)"
   ]
  },
  {
   "cell_type": "markdown",
   "metadata": {
    "slideshow": {
     "slide_type": "slide"
    }
   },
   "source": [
    "> «Бесцветные зелёные идеи спят яростно»\n",
    "> \n",
    "> Аврам Ноам Хомский"
   ]
  },
  {
   "cell_type": "markdown",
   "metadata": {
    "slideshow": {
     "slide_type": "fragment"
    }
   },
   "source": [
    "> «Лампа, светильник, подзатыльник»\n",
    "> \n",
    "> не Аврам Ноам Хомский"
   ]
  },
  {
   "cell_type": "markdown",
   "metadata": {
    "slideshow": {
     "slide_type": "fragment"
    }
   },
   "source": [
    "Семантику слов нельзя проанализировать ни фонетически, ни морфологически, ни синтаксически."
   ]
  },
  {
   "cell_type": "markdown",
   "metadata": {
    "slideshow": {
     "slide_type": "slide"
    }
   },
   "source": [
    "## 1.2. Как быть?"
   ]
  },
  {
   "cell_type": "markdown",
   "metadata": {
    "slideshow": {
     "slide_type": "fragment"
    }
   },
   "source": [
    "Необходимо найти такие __репрезентации__ слов, чтобы синонимичные слова имели близкие репрезентации."
   ]
  },
  {
   "cell_type": "markdown",
   "metadata": {
    "slideshow": {
     "slide_type": "fragment"
    }
   },
   "source": [
    "Существуют два фундаментальных подхода к определению семантики слов:\n",
    "- Построение **онтологий** (knowledge-based approach)\n",
    "- Извлечение значений из **употребления слов** (distributional approach)"
   ]
  },
  {
   "cell_type": "markdown",
   "metadata": {
    "slideshow": {
     "slide_type": "slide"
    }
   },
   "source": [
    "## 1.3. Дистрибутивная гипотеза"
   ]
  },
  {
   "cell_type": "markdown",
   "metadata": {
    "slideshow": {
     "slide_type": "fragment"
    }
   },
   "source": [
    "> «Все на свете должно происходить медленно и неправильно, чтобы не сумел загордиться человек, чтобы человек был грустен и растерян»\n",
    "> \n",
    "> Венедикт Ерофеев\n",
    "\n",
    "\n",
    "> «Все на свете должно происходить затяжно и неправильно, чтобы не сумел загордиться человек, чтобы человек был грустен и растерян»\n",
    ">\n",
    "> не Венедикт Ерофеев"
   ]
  },
  {
   "cell_type": "markdown",
   "metadata": {
    "slideshow": {
     "slide_type": "fragment"
    }
   },
   "source": [
    "Лингвистические единицы, встречающиеся в схожих контекстах, имеют близкие значения."
   ]
  },
  {
   "cell_type": "markdown",
   "metadata": {
    "collapsed": true,
    "slideshow": {
     "slide_type": "slide"
    }
   },
   "source": [
    "## 1.4. Обучение компьютера семантике"
   ]
  },
  {
   "cell_type": "markdown",
   "metadata": {
    "slideshow": {
     "slide_type": "slide"
    }
   },
   "source": [
    "__Кóрпус__ — подобранная и обработанная по определённым правилам совокупность текстов, используемых в качестве базы для исследования языка.\n",
    "\n",
    "__Моде́ль__ — представление некоторого реального процесса, устройства или концепции."
   ]
  },
  {
   "cell_type": "markdown",
   "metadata": {
    "slideshow": {
     "slide_type": "slide"
    }
   },
   "source": [
    "### Как учим?\n",
    "\n",
    "1. Берём корпус\n",
    "2. Обучаем модель на корпусе\n",
    "3. Получаем модель, которая описывает совместную встречаемость слов в корпусе"
   ]
  },
  {
   "cell_type": "markdown",
   "metadata": {
    "slideshow": {
     "slide_type": "slide"
    }
   },
   "source": [
    "## 1.6. Модель в стакане"
   ]
  },
  {
   "cell_type": "markdown",
   "metadata": {
    "slideshow": {
     "slide_type": "slide"
    }
   },
   "source": [
    "### Корпус"
   ]
  },
  {
   "cell_type": "markdown",
   "metadata": {
    "slideshow": {
     "slide_type": "fragment"
    }
   },
   "source": [
    "Ну, гравицаппа — это то, без чего пепелац может только так летать, а с гравицаппой в любую точку Вселенной фьють — за пять секунд.\n",
    "\n",
    "Ребят, как же это вы без гравицаппы пепелац выкатываете из гаража? Это непорядок.\n",
    "\n",
    "Ох! Да. Это возмутительно! Если коровы станут летать, то мне в космосе делать нечего!"
   ]
  },
  {
   "cell_type": "markdown",
   "metadata": {
    "slideshow": {
     "slide_type": "slide"
    }
   },
   "source": [
    "### Предобработка "
   ]
  },
  {
   "cell_type": "markdown",
   "metadata": {
    "slideshow": {
     "slide_type": "fragment"
    }
   },
   "source": [
    "гравицаппа пепелац летать гравицаппа точка вселенная фьють секунда.\n",
    "\n",
    "ребята гравицаппа пепелац выкатывать гараж.\n",
    "\n",
    "непорядок.\n",
    "\n",
    "возмутительно.\n",
    "\n",
    "корова летать космос делать."
   ]
  },
  {
   "cell_type": "markdown",
   "metadata": {
    "slideshow": {
     "slide_type": "slide"
    }
   },
   "source": [
    "### Матрица совместной встречаемости"
   ]
  },
  {
   "cell_type": "code",
   "execution_count": 47,
   "metadata": {
    "slideshow": {
     "slide_type": "skip"
    }
   },
   "outputs": [],
   "source": [
    "import numpy as np\n",
    "import pandas as pd\n",
    "import matplotlib\n",
    "import matplotlib.pyplot as plt\n",
    "%matplotlib inline\n",
    "\n",
    "from pprint import pprint"
   ]
  },
  {
   "cell_type": "code",
   "execution_count": 19,
   "metadata": {
    "slideshow": {
     "slide_type": "skip"
    }
   },
   "outputs": [
    {
     "data": {
      "text/html": [
       "<div>\n",
       "<style>\n",
       "    .dataframe thead tr:only-child th {\n",
       "        text-align: right;\n",
       "    }\n",
       "\n",
       "    .dataframe thead th {\n",
       "        text-align: left;\n",
       "    }\n",
       "\n",
       "    .dataframe tbody tr th {\n",
       "        vertical-align: top;\n",
       "    }\n",
       "</style>\n",
       "<table border=\"1\" class=\"dataframe\">\n",
       "  <thead>\n",
       "    <tr style=\"text-align: right;\">\n",
       "      <th></th>\n",
       "      <th>x</th>\n",
       "      <th>гравицаппа</th>\n",
       "      <th>пепелац</th>\n",
       "      <th>летать</th>\n",
       "      <th>точка</th>\n",
       "      <th>вселенная</th>\n",
       "      <th>фьють</th>\n",
       "      <th>секунда</th>\n",
       "      <th>ребята</th>\n",
       "      <th>выкатывать</th>\n",
       "      <th>гараж</th>\n",
       "      <th>корова</th>\n",
       "      <th>космос</th>\n",
       "      <th>делать</th>\n",
       "    </tr>\n",
       "  </thead>\n",
       "  <tbody>\n",
       "    <tr>\n",
       "      <th>0</th>\n",
       "      <td>гравицаппа</td>\n",
       "      <td>0.0</td>\n",
       "      <td>2.0</td>\n",
       "      <td>1.0</td>\n",
       "      <td>1.0</td>\n",
       "      <td>0.0</td>\n",
       "      <td>0.0</td>\n",
       "      <td>0.0</td>\n",
       "      <td>1.0</td>\n",
       "      <td>0.0</td>\n",
       "      <td>0.0</td>\n",
       "      <td>0.0</td>\n",
       "      <td>0.0</td>\n",
       "      <td>0.0</td>\n",
       "    </tr>\n",
       "    <tr>\n",
       "      <th>1</th>\n",
       "      <td>пепелац</td>\n",
       "      <td>2.0</td>\n",
       "      <td>0.0</td>\n",
       "      <td>1.0</td>\n",
       "      <td>0.0</td>\n",
       "      <td>0.0</td>\n",
       "      <td>0.0</td>\n",
       "      <td>0.0</td>\n",
       "      <td>0.0</td>\n",
       "      <td>1.0</td>\n",
       "      <td>0.0</td>\n",
       "      <td>0.0</td>\n",
       "      <td>0.0</td>\n",
       "      <td>0.0</td>\n",
       "    </tr>\n",
       "    <tr>\n",
       "      <th>2</th>\n",
       "      <td>летать</td>\n",
       "      <td>1.0</td>\n",
       "      <td>1.0</td>\n",
       "      <td>0.0</td>\n",
       "      <td>0.0</td>\n",
       "      <td>0.0</td>\n",
       "      <td>0.0</td>\n",
       "      <td>0.0</td>\n",
       "      <td>0.0</td>\n",
       "      <td>0.0</td>\n",
       "      <td>0.0</td>\n",
       "      <td>1.0</td>\n",
       "      <td>1.0</td>\n",
       "      <td>0.0</td>\n",
       "    </tr>\n",
       "    <tr>\n",
       "      <th>3</th>\n",
       "      <td>точка</td>\n",
       "      <td>1.0</td>\n",
       "      <td>0.0</td>\n",
       "      <td>0.0</td>\n",
       "      <td>0.0</td>\n",
       "      <td>1.0</td>\n",
       "      <td>0.0</td>\n",
       "      <td>0.0</td>\n",
       "      <td>0.0</td>\n",
       "      <td>0.0</td>\n",
       "      <td>0.0</td>\n",
       "      <td>0.0</td>\n",
       "      <td>0.0</td>\n",
       "      <td>0.0</td>\n",
       "    </tr>\n",
       "    <tr>\n",
       "      <th>4</th>\n",
       "      <td>вселенная</td>\n",
       "      <td>0.0</td>\n",
       "      <td>0.0</td>\n",
       "      <td>0.0</td>\n",
       "      <td>1.0</td>\n",
       "      <td>0.0</td>\n",
       "      <td>1.0</td>\n",
       "      <td>0.0</td>\n",
       "      <td>0.0</td>\n",
       "      <td>0.0</td>\n",
       "      <td>0.0</td>\n",
       "      <td>0.0</td>\n",
       "      <td>0.0</td>\n",
       "      <td>0.0</td>\n",
       "    </tr>\n",
       "    <tr>\n",
       "      <th>5</th>\n",
       "      <td>фьють</td>\n",
       "      <td>0.0</td>\n",
       "      <td>0.0</td>\n",
       "      <td>0.0</td>\n",
       "      <td>0.0</td>\n",
       "      <td>1.0</td>\n",
       "      <td>0.0</td>\n",
       "      <td>1.0</td>\n",
       "      <td>0.0</td>\n",
       "      <td>0.0</td>\n",
       "      <td>0.0</td>\n",
       "      <td>0.0</td>\n",
       "      <td>0.0</td>\n",
       "      <td>0.0</td>\n",
       "    </tr>\n",
       "    <tr>\n",
       "      <th>6</th>\n",
       "      <td>секунда</td>\n",
       "      <td>0.0</td>\n",
       "      <td>0.0</td>\n",
       "      <td>0.0</td>\n",
       "      <td>0.0</td>\n",
       "      <td>0.0</td>\n",
       "      <td>1.0</td>\n",
       "      <td>0.0</td>\n",
       "      <td>0.0</td>\n",
       "      <td>0.0</td>\n",
       "      <td>0.0</td>\n",
       "      <td>0.0</td>\n",
       "      <td>0.0</td>\n",
       "      <td>0.0</td>\n",
       "    </tr>\n",
       "    <tr>\n",
       "      <th>7</th>\n",
       "      <td>ребята</td>\n",
       "      <td>1.0</td>\n",
       "      <td>0.0</td>\n",
       "      <td>0.0</td>\n",
       "      <td>0.0</td>\n",
       "      <td>0.0</td>\n",
       "      <td>0.0</td>\n",
       "      <td>0.0</td>\n",
       "      <td>0.0</td>\n",
       "      <td>0.0</td>\n",
       "      <td>0.0</td>\n",
       "      <td>0.0</td>\n",
       "      <td>0.0</td>\n",
       "      <td>0.0</td>\n",
       "    </tr>\n",
       "    <tr>\n",
       "      <th>8</th>\n",
       "      <td>выкатывать</td>\n",
       "      <td>0.0</td>\n",
       "      <td>1.0</td>\n",
       "      <td>0.0</td>\n",
       "      <td>0.0</td>\n",
       "      <td>0.0</td>\n",
       "      <td>0.0</td>\n",
       "      <td>0.0</td>\n",
       "      <td>0.0</td>\n",
       "      <td>0.0</td>\n",
       "      <td>1.0</td>\n",
       "      <td>0.0</td>\n",
       "      <td>0.0</td>\n",
       "      <td>0.0</td>\n",
       "    </tr>\n",
       "    <tr>\n",
       "      <th>9</th>\n",
       "      <td>гараж</td>\n",
       "      <td>0.0</td>\n",
       "      <td>0.0</td>\n",
       "      <td>0.0</td>\n",
       "      <td>0.0</td>\n",
       "      <td>0.0</td>\n",
       "      <td>0.0</td>\n",
       "      <td>0.0</td>\n",
       "      <td>0.0</td>\n",
       "      <td>1.0</td>\n",
       "      <td>0.0</td>\n",
       "      <td>0.0</td>\n",
       "      <td>0.0</td>\n",
       "      <td>0.0</td>\n",
       "    </tr>\n",
       "    <tr>\n",
       "      <th>10</th>\n",
       "      <td>корова</td>\n",
       "      <td>0.0</td>\n",
       "      <td>0.0</td>\n",
       "      <td>1.0</td>\n",
       "      <td>0.0</td>\n",
       "      <td>0.0</td>\n",
       "      <td>0.0</td>\n",
       "      <td>0.0</td>\n",
       "      <td>0.0</td>\n",
       "      <td>0.0</td>\n",
       "      <td>0.0</td>\n",
       "      <td>0.0</td>\n",
       "      <td>0.0</td>\n",
       "      <td>0.0</td>\n",
       "    </tr>\n",
       "    <tr>\n",
       "      <th>11</th>\n",
       "      <td>космос</td>\n",
       "      <td>0.0</td>\n",
       "      <td>0.0</td>\n",
       "      <td>1.0</td>\n",
       "      <td>0.0</td>\n",
       "      <td>0.0</td>\n",
       "      <td>0.0</td>\n",
       "      <td>0.0</td>\n",
       "      <td>0.0</td>\n",
       "      <td>0.0</td>\n",
       "      <td>0.0</td>\n",
       "      <td>0.0</td>\n",
       "      <td>0.0</td>\n",
       "      <td>1.0</td>\n",
       "    </tr>\n",
       "    <tr>\n",
       "      <th>12</th>\n",
       "      <td>делать</td>\n",
       "      <td>0.0</td>\n",
       "      <td>0.0</td>\n",
       "      <td>0.0</td>\n",
       "      <td>0.0</td>\n",
       "      <td>0.0</td>\n",
       "      <td>0.0</td>\n",
       "      <td>0.0</td>\n",
       "      <td>0.0</td>\n",
       "      <td>0.0</td>\n",
       "      <td>0.0</td>\n",
       "      <td>0.0</td>\n",
       "      <td>1.0</td>\n",
       "      <td>0.0</td>\n",
       "    </tr>\n",
       "  </tbody>\n",
       "</table>\n",
       "</div>"
      ],
      "text/plain": [
       "             x  гравицаппа  пепелац  летать  точка  вселенная  фьють  секунда  \\\n",
       "0   гравицаппа         0.0      2.0     1.0    1.0        0.0    0.0      0.0   \n",
       "1      пепелац         2.0      0.0     1.0    0.0        0.0    0.0      0.0   \n",
       "2       летать         1.0      1.0     0.0    0.0        0.0    0.0      0.0   \n",
       "3        точка         1.0      0.0     0.0    0.0        1.0    0.0      0.0   \n",
       "4    вселенная         0.0      0.0     0.0    1.0        0.0    1.0      0.0   \n",
       "5        фьють         0.0      0.0     0.0    0.0        1.0    0.0      1.0   \n",
       "6      секунда         0.0      0.0     0.0    0.0        0.0    1.0      0.0   \n",
       "7       ребята         1.0      0.0     0.0    0.0        0.0    0.0      0.0   \n",
       "8   выкатывать         0.0      1.0     0.0    0.0        0.0    0.0      0.0   \n",
       "9        гараж         0.0      0.0     0.0    0.0        0.0    0.0      0.0   \n",
       "10      корова         0.0      0.0     1.0    0.0        0.0    0.0      0.0   \n",
       "11      космос         0.0      0.0     1.0    0.0        0.0    0.0      0.0   \n",
       "12      делать         0.0      0.0     0.0    0.0        0.0    0.0      0.0   \n",
       "\n",
       "    ребята  выкатывать  гараж  корова  космос  делать  \n",
       "0      1.0         0.0    0.0     0.0     0.0     0.0  \n",
       "1      0.0         1.0    0.0     0.0     0.0     0.0  \n",
       "2      0.0         0.0    0.0     1.0     1.0     0.0  \n",
       "3      0.0         0.0    0.0     0.0     0.0     0.0  \n",
       "4      0.0         0.0    0.0     0.0     0.0     0.0  \n",
       "5      0.0         0.0    0.0     0.0     0.0     0.0  \n",
       "6      0.0         0.0    0.0     0.0     0.0     0.0  \n",
       "7      0.0         0.0    0.0     0.0     0.0     0.0  \n",
       "8      0.0         0.0    1.0     0.0     0.0     0.0  \n",
       "9      0.0         1.0    0.0     0.0     0.0     0.0  \n",
       "10     0.0         0.0    0.0     0.0     0.0     0.0  \n",
       "11     0.0         0.0    0.0     0.0     0.0     1.0  \n",
       "12     0.0         0.0    0.0     0.0     1.0     0.0  "
      ]
     },
     "execution_count": 19,
     "metadata": {},
     "output_type": "execute_result"
    }
   ],
   "source": [
    "teacup_matrix = pd.read_csv(\"dist_counting_model.csv\", encoding='cp1251').fillna(0)\n",
    "teacup_matrix"
   ]
  },
  {
   "cell_type": "markdown",
   "metadata": {
    "slideshow": {
     "slide_type": "fragment"
    }
   },
   "source": [
    "![image.png](teacup_matrix.png)"
   ]
  },
  {
   "cell_type": "code",
   "execution_count": 121,
   "metadata": {
    "slideshow": {
     "slide_type": "skip"
    }
   },
   "outputs": [
    {
     "data": {
      "text/html": [
       "<div>\n",
       "<style>\n",
       "    .dataframe thead tr:only-child th {\n",
       "        text-align: right;\n",
       "    }\n",
       "\n",
       "    .dataframe thead th {\n",
       "        text-align: left;\n",
       "    }\n",
       "\n",
       "    .dataframe tbody tr th {\n",
       "        vertical-align: top;\n",
       "    }\n",
       "</style>\n",
       "<table border=\"1\" class=\"dataframe\">\n",
       "  <thead>\n",
       "    <tr style=\"text-align: right;\">\n",
       "      <th></th>\n",
       "      <th>x</th>\n",
       "      <th>гравицаппа</th>\n",
       "    </tr>\n",
       "  </thead>\n",
       "  <tbody>\n",
       "    <tr>\n",
       "      <th>0</th>\n",
       "      <td>гравицаппа</td>\n",
       "      <td>0.0</td>\n",
       "    </tr>\n",
       "    <tr>\n",
       "      <th>1</th>\n",
       "      <td>пепелац</td>\n",
       "      <td>2.0</td>\n",
       "    </tr>\n",
       "    <tr>\n",
       "      <th>2</th>\n",
       "      <td>летать</td>\n",
       "      <td>1.0</td>\n",
       "    </tr>\n",
       "    <tr>\n",
       "      <th>3</th>\n",
       "      <td>точка</td>\n",
       "      <td>1.0</td>\n",
       "    </tr>\n",
       "    <tr>\n",
       "      <th>4</th>\n",
       "      <td>вселенная</td>\n",
       "      <td>0.0</td>\n",
       "    </tr>\n",
       "    <tr>\n",
       "      <th>5</th>\n",
       "      <td>фьють</td>\n",
       "      <td>0.0</td>\n",
       "    </tr>\n",
       "    <tr>\n",
       "      <th>6</th>\n",
       "      <td>секунда</td>\n",
       "      <td>0.0</td>\n",
       "    </tr>\n",
       "    <tr>\n",
       "      <th>7</th>\n",
       "      <td>ребята</td>\n",
       "      <td>1.0</td>\n",
       "    </tr>\n",
       "    <tr>\n",
       "      <th>8</th>\n",
       "      <td>выкатывать</td>\n",
       "      <td>0.0</td>\n",
       "    </tr>\n",
       "    <tr>\n",
       "      <th>9</th>\n",
       "      <td>гараж</td>\n",
       "      <td>0.0</td>\n",
       "    </tr>\n",
       "    <tr>\n",
       "      <th>10</th>\n",
       "      <td>корова</td>\n",
       "      <td>0.0</td>\n",
       "    </tr>\n",
       "    <tr>\n",
       "      <th>11</th>\n",
       "      <td>космос</td>\n",
       "      <td>0.0</td>\n",
       "    </tr>\n",
       "    <tr>\n",
       "      <th>12</th>\n",
       "      <td>делать</td>\n",
       "      <td>0.0</td>\n",
       "    </tr>\n",
       "  </tbody>\n",
       "</table>\n",
       "</div>"
      ],
      "text/plain": [
       "             x  гравицаппа\n",
       "0   гравицаппа         0.0\n",
       "1      пепелац         2.0\n",
       "2       летать         1.0\n",
       "3        точка         1.0\n",
       "4    вселенная         0.0\n",
       "5        фьють         0.0\n",
       "6      секунда         0.0\n",
       "7       ребята         1.0\n",
       "8   выкатывать         0.0\n",
       "9        гараж         0.0\n",
       "10      корова         0.0\n",
       "11      космос         0.0\n",
       "12      делать         0.0"
      ]
     },
     "execution_count": 121,
     "metadata": {},
     "output_type": "execute_result"
    }
   ],
   "source": [
    "teacup_matrix[[\"x\", \"гравицаппа\"]]"
   ]
  },
  {
   "cell_type": "code",
   "execution_count": 21,
   "metadata": {
    "scrolled": false,
    "slideshow": {
     "slide_type": "skip"
    }
   },
   "outputs": [
    {
     "data": {
      "text/plain": [
       "<matplotlib.axes._subplots.AxesSubplot at 0x196b8592710>"
      ]
     },
     "execution_count": 21,
     "metadata": {},
     "output_type": "execute_result"
    },
    {
     "data": {
      "image/png": "[encoded data removed]",
      "text/plain": [
       "<matplotlib.figure.Figure at 0x196b82a5c50>"
      ]
     },
     "metadata": {},
     "output_type": "display_data"
    }
   ],
   "source": [
    "import seaborn as sns\n",
    "my_data = np.genfromtxt('matrix.csv', delimiter=',')\n",
    "\n",
    "f, ax = plt.subplots(figsize=(10, 8))\n",
    "sns.heatmap(my_data, cmap=\"YlGnBu\", annot=True)"
   ]
  },
  {
   "cell_type": "markdown",
   "metadata": {
    "slideshow": {
     "slide_type": "slide"
    }
   },
   "source": [
    "![](tteacup.png)"
   ]
  },
  {
   "cell_type": "markdown",
   "metadata": {
    "slideshow": {
     "slide_type": "slide"
    }
   },
   "source": [
    "# 2. Семантические вектора\n",
    "В традиционной дистрибутивной семантике слова описываются векторами, где в качестве измерений (компонентов) выступают соседи этих слов в текстовом корпусе. Количество измерений вектора в **счётной модели** равно количеству слов в корпусе. "
   ]
  },
  {
   "cell_type": "markdown",
   "metadata": {
    "slideshow": {
     "slide_type": "slide"
    }
   },
   "source": [
    "## 2.1. Многомерное векторное пространство\n",
    " Получено **многомерное векторное пространство**\n",
    "1. Слова являются **координатными осями**\n",
    "2. Слова являются **векторами** в этом многомерном пространстве\n",
    "3. Количество измерений равно количеству слов в корпусе\n",
    "4. Векторы **разреженные**"
   ]
  },
  {
   "cell_type": "markdown",
   "metadata": {
    "slideshow": {
     "slide_type": "slide"
    }
   },
   "source": [
    "## 2.2. Матрица совместной встречаемости\n",
    "При создании **матрицы совместной встречаемости** можно смотреть не только на непосредственных соседей, но и на слова, находящиеся в **контекстном окне**.\n",
    "\n",
    "... животных (в том числе и у **[человека) различают головной _мозг_, размещённый в полости черепа]**, и спинной ..."
   ]
  },
  {
   "cell_type": "markdown",
   "metadata": {
    "slideshow": {
     "slide_type": "fragment"
    }
   },
   "source": [
    "Можно использовать не абсолютную частоту совместной встречаемости слов, а как-либо её взвешивать. Коэффициент Дайса:\n",
    "$$ Dice(w,w') = \\frac{2c(w,w')}{c(w)+c(w')}, $$\n",
    "где\n",
    "\n",
    "$c(w)$ - абсолютная частота встречаемости слова $w$,\n",
    "\n",
    "$c(w')$ - абсолютная частота встречаемости слова $w'$,\n",
    "\n",
    "$c(w,w')$ - частота совместной встречаемости слов $w,w'$."
   ]
  },
  {
   "cell_type": "markdown",
   "metadata": {
    "slideshow": {
     "slide_type": "slide"
    }
   },
   "source": [
    "# 3. Семантическая близость"
   ]
  },
  {
   "cell_type": "markdown",
   "metadata": {
    "slideshow": {
     "slide_type": "slide"
    }
   },
   "source": [
    "## 3.1. Косинусная близость\n",
    "Классический способ определения семантической близости слов в векторном пространстве.\n",
    "- Схожесть слов выше по мере уменьшения угла между векторами слов\n",
    "- Схожесть слов выше по мере увеличения косинуса угла между векторами слов\n"
   ]
  },
  {
   "cell_type": "markdown",
   "metadata": {
    "slideshow": {
     "slide_type": "fragment"
    }
   },
   "source": [
    "$$ cos(w, w') = \\frac{(\\overrightarrow{V}(w), \\overrightarrow{V}(w'))}{|\\overrightarrow{V}(w)| \\cdot |\\overrightarrow{V}(w')|},$$\n",
    "\n",
    "где\n",
    "\n",
    "$w$ и $w'$ - некоторые слова,\n",
    "\n",
    "$\\overrightarrow{V}(a)$ - операция взятия вектора от слова $a$"
   ]
  },
  {
   "cell_type": "markdown",
   "metadata": {
    "slideshow": {
     "slide_type": "slide"
    }
   },
   "source": [
    "## 3.2 Вернёмся к стаканам"
   ]
  },
  {
   "cell_type": "markdown",
   "metadata": {
    "slideshow": {
     "slide_type": "fragment"
    }
   },
   "source": [
    "![](tteacup.png)"
   ]
  },
  {
   "cell_type": "markdown",
   "metadata": {
    "slideshow": {
     "slide_type": "slide"
    }
   },
   "source": [
    "$$ cos(w, w') = \\frac{(\\overrightarrow{V}(w), \\overrightarrow{V}(w'))}{|\\overrightarrow{V}(w)| \\cdot |\\overrightarrow{V}(w')|}$$"
   ]
  },
  {
   "cell_type": "code",
   "execution_count": 30,
   "metadata": {
    "slideshow": {
     "slide_type": "fragment"
    }
   },
   "outputs": [],
   "source": [
    "import numpy as np\n",
    "\n",
    "def dist(a, b) -> float:\n",
    "    return (a @ b) / (np.linalg.norm(a) * np.linalg.norm(b))"
   ]
  },
  {
   "cell_type": "code",
   "execution_count": 37,
   "metadata": {
    "slideshow": {
     "slide_type": "skip"
    }
   },
   "outputs": [],
   "source": [
    "pepelatz = np.array([0, 2, 1, 1, 0, 0, 0, 1, 0, 0, 0, 0, 0])\n",
    "gravizappa = np.array([2, 0, 1, 0, 0, 0, 0, 0, 1, 0, 0, 0, 0])\n",
    "cow = np.array([0, 0, 1, 0, 0, 0, 0, 0, 0, 0, 0, 0, 0])\n",
    "roll_out = np.array([0, 1, 0, 0, 0, 0, 0, 0, 0, 1, 0, 0, 0])"
   ]
  },
  {
   "cell_type": "code",
   "execution_count": 41,
   "metadata": {
    "slideshow": {
     "slide_type": "fragment"
    }
   },
   "outputs": [
    {
     "data": {
      "text/plain": [
       "0.3779644730092272"
      ]
     },
     "execution_count": 41,
     "metadata": {},
     "output_type": "execute_result"
    }
   ],
   "source": [
    "# Близость пепелаца и коровы\n",
    "dist(pepelatz, cow)"
   ]
  },
  {
   "cell_type": "code",
   "execution_count": 42,
   "metadata": {
    "slideshow": {
     "slide_type": "fragment"
    }
   },
   "outputs": [
    {
     "data": {
      "text/plain": [
       "0.5345224838248487"
      ]
     },
     "execution_count": 42,
     "metadata": {},
     "output_type": "execute_result"
    }
   ],
   "source": [
    "# Близость пепелаца и выкатывать\n",
    "dist(pepelatz, roll_out)"
   ]
  },
  {
   "cell_type": "code",
   "execution_count": 43,
   "metadata": {
    "slideshow": {
     "slide_type": "fragment"
    }
   },
   "outputs": [
    {
     "data": {
      "text/plain": [
       "0.0"
      ]
     },
     "execution_count": 43,
     "metadata": {},
     "output_type": "execute_result"
    }
   ],
   "source": [
    "# Близость коровы и выкатывать\n",
    "dist(cow, roll_out)"
   ]
  },
  {
   "cell_type": "markdown",
   "metadata": {
    "slideshow": {
     "slide_type": "slide"
    }
   },
   "source": [
    "# 4. Недостатки счётных моделей"
   ]
  },
  {
   "cell_type": "markdown",
   "metadata": {
    "slideshow": {
     "slide_type": "fragment"
    }
   },
   "source": [
    "1. Большой размер векторов\n",
    "2. Медленные операции над векторами\n",
    "3. Классические методы снижения размерности (PCA, SVD и т.п.) снижают качество модели"
   ]
  },
  {
   "cell_type": "markdown",
   "metadata": {
    "slideshow": {
     "slide_type": "skip"
    }
   },
   "source": [
    "https://habr.com/post/176257/ - Метод главных компонент\n",
    "\n",
    "https://habr.com/post/275273/"
   ]
  },
  {
   "cell_type": "markdown",
   "metadata": {
    "slideshow": {
     "slide_type": "slide"
    }
   },
   "source": [
    "# 5. Предсказательные модели"
   ]
  },
  {
   "cell_type": "markdown",
   "metadata": {
    "slideshow": {
     "slide_type": "fragment"
    }
   },
   "source": [
    "- Мы пытаемся от каждого слова найти такой вектор (embedding), чтобы он был максимально схож с векторами слов-соседей\n",
    "и максимально отличался от остальных слов.\n",
    "- Обычно такой вектор небольшой размерности (порядка сотен компонентов) "
   ]
  },
  {
   "cell_type": "markdown",
   "metadata": {
    "slideshow": {
     "slide_type": "slide"
    }
   },
   "source": [
    "В **счётных моделях** $\\overrightarrow{word} = [w_1, w_2, \\dots w_n],$   где $n$ - число слов в корпусе (например, около $10^6$)\n",
    "\n",
    "В **предсказательных моделях** $\\overrightarrow{word} = [w_1, w_2, \\dots w_m], $ где $m$ - заданный при обучении размер (например, около $500$)\n",
    "\n",
    "Репрезентация слов с помощью предсказательных моделей намного эффективнее на практике."
   ]
  },
  {
   "cell_type": "markdown",
   "metadata": {
    "slideshow": {
     "slide_type": "fragment"
    }
   },
   "source": [
    "Обучение: оптимизация __функции потерь__.\n",
    "\n",
    "Функция потерь выбирается произвольно."
   ]
  },
  {
   "cell_type": "markdown",
   "metadata": {
    "slideshow": {
     "slide_type": "skip"
    }
   },
   "source": [
    "Перекрёстная энтропия\n",
    "\n",
    "https://habr.com/post/374681/"
   ]
  },
  {
   "cell_type": "markdown",
   "metadata": {
    "slideshow": {
     "slide_type": "slide"
    }
   },
   "source": [
    "# 6. word2vec\n",
    "В 2013 году Tomas Mikolov из Google с соавторами опубликовал статью Efficient Estimation of Word Representations in Vector Space. Чуть позже был выложен код утилиты word2vec, которая позволяет тренировать нейронные языковые модели на больших корпусах."
   ]
  },
  {
   "cell_type": "markdown",
   "metadata": {
    "slideshow": {
     "slide_type": "fragment"
    }
   },
   "source": [
    "Миколов модифицировал сущестующие алгоритмы. Важно, что word2vec **обучается на порядки быстрее** своих предшественников."
   ]
  },
  {
   "cell_type": "markdown",
   "metadata": {
    "slideshow": {
     "slide_type": "skip"
    }
   },
   "source": [
    "https://arxiv.org/abs/1301.3781"
   ]
  },
  {
   "cell_type": "markdown",
   "metadata": {
    "slideshow": {
     "slide_type": "slide"
    }
   },
   "source": [
    "# Примеры"
   ]
  },
  {
   "cell_type": "code",
   "execution_count": 24,
   "metadata": {
    "slideshow": {
     "slide_type": "fragment"
    }
   },
   "outputs": [
    {
     "name": "stderr",
     "output_type": "stream",
     "text": [
      "C:\\Users\\Dim\\Anaconda3\\lib\\site-packages\\gensim\\utils.py:1167: UserWarning: detected Windows; aliasing chunkize to chunkize_serial\n",
      "  warnings.warn(\"detected Windows; aliasing chunkize to chunkize_serial\")\n"
     ]
    }
   ],
   "source": [
    "import gensim\n",
    "w2v_model = gensim.models.KeyedVectors.load_word2vec_format(r'''araneum_upos_skipgram_300_2_2018.vec''')"
   ]
  },
  {
   "cell_type": "markdown",
   "metadata": {
    "slideshow": {
     "slide_type": "fragment"
    }
   },
   "source": [
    "Обученные модели можно взять http://rusvectores.org/ru/models/"
   ]
  },
  {
   "cell_type": "code",
   "execution_count": 6,
   "metadata": {
    "slideshow": {
     "slide_type": "slide"
    }
   },
   "outputs": [
    {
     "data": {
      "text/plain": [
       "array([-0.027465,  0.100439, -0.103324, -0.082207, -0.030868, -0.015183,\n",
       "        0.000598, -0.079377, -0.002283,  0.063085,  0.034348,  0.077064,\n",
       "        0.11245 ,  0.094937, -0.019655, -0.034419,  0.090761,  0.092722,\n",
       "       -0.026385, -0.076239, -0.031656, -0.033933, -0.04341 ,  0.059522,\n",
       "       -0.028613, -0.017589, -0.063313,  0.004186,  0.041362, -0.014075,\n",
       "        0.027321,  0.001999, -0.038185, -0.051985,  0.01361 ,  0.032793,\n",
       "       -0.047974,  0.003728, -0.045664, -0.10107 ,  0.022689,  0.065924,\n",
       "        0.004075,  0.02786 , -0.061815,  0.003811,  0.052616, -0.04216 ,\n",
       "       -0.028876,  0.074481,  0.127825,  0.099874,  0.056212,  0.076138,\n",
       "       -0.010256,  0.102529,  0.082981,  0.07683 ,  0.118031, -0.0882  ,\n",
       "        0.026836, -0.037248,  0.053663, -0.04625 , -0.177984, -0.094721,\n",
       "       -0.069048, -0.042868,  0.072968, -0.04379 , -0.001721,  0.011135,\n",
       "        0.004856,  0.003208,  0.053068, -0.101371,  0.016349, -0.036513,\n",
       "       -0.0768  , -0.102599, -0.014578, -0.070232,  0.023118,  0.009445,\n",
       "       -0.07049 , -0.033713,  0.092194,  0.017613,  0.044862, -0.029089,\n",
       "       -0.017404, -0.040914,  0.052862, -0.122423, -0.017625,  0.062039,\n",
       "        0.017903,  0.003437,  0.005758, -0.13166 , -0.142593,  0.08394 ,\n",
       "        0.008127,  0.017807, -0.027269,  0.06831 ,  0.067919, -0.038145,\n",
       "        0.002945,  0.076957, -0.058304,  0.066722, -0.047724, -0.016939,\n",
       "        0.080225,  0.101645, -0.053669,  0.022801,  0.016384,  0.060852,\n",
       "       -0.023967,  0.051224, -0.037627,  0.093137,  0.011748, -0.039901,\n",
       "       -0.032285, -0.088936,  0.049689, -0.094118, -0.003689, -0.111317,\n",
       "       -0.050472, -0.028177,  0.029722,  0.088657, -0.047927, -0.10385 ,\n",
       "       -0.063351,  0.024215,  0.081655,  0.06325 ,  0.005489,  0.008171,\n",
       "        0.03348 , -0.002613, -0.038714, -0.000483, -0.09269 , -0.098008,\n",
       "        0.027138, -0.063201, -0.018795,  0.02637 , -0.01909 ,  0.051077,\n",
       "       -0.007039, -0.023653, -0.071282, -0.044262,  0.101918,  0.073516,\n",
       "        0.059058, -0.036858,  0.065667, -0.024194, -0.013017,  0.009095,\n",
       "       -0.003193,  0.014528,  0.072223, -0.079113, -0.007204, -0.010014,\n",
       "        0.037054, -0.077781,  0.001701,  0.127428,  0.06864 ,  0.046267,\n",
       "        0.022767,  0.020422, -0.119982,  0.057718,  0.007618,  0.043954,\n",
       "       -0.047058,  0.020622, -0.079512, -0.000922,  0.058139, -0.085288,\n",
       "       -0.006791,  0.000356,  0.049111,  0.02841 , -0.011739, -0.014355,\n",
       "        0.037111,  0.003932, -0.025847, -0.107603,  0.044167,  0.130037,\n",
       "        0.046865,  0.045239,  0.039437, -0.046719,  0.022687,  0.016318,\n",
       "        0.048287, -0.035836,  0.027005,  0.026948,  0.038028,  0.124551,\n",
       "       -0.04271 ,  0.005065,  0.003461,  0.065785,  0.011282, -0.045312,\n",
       "        0.018874,  0.044355, -0.032067,  0.053005, -0.023234, -0.023594,\n",
       "        0.04991 ,  0.029049, -0.001399, -0.089729, -0.177118, -0.073952,\n",
       "        0.01018 , -0.050295, -0.042067, -0.046375,  0.013542, -0.062325,\n",
       "       -0.008358,  0.046003, -0.036718, -0.02045 ,  0.03807 ,  0.036636,\n",
       "        0.025439,  0.047722, -0.074226, -0.021935, -0.044113,  0.015005,\n",
       "       -0.061086, -0.012042, -0.031377,  0.022255, -0.080199, -0.013978,\n",
       "        0.015993,  0.02152 , -0.042215,  0.054849,  0.016947, -0.073227,\n",
       "        0.035818, -0.114139, -0.074117,  0.102393,  0.040847, -0.013154,\n",
       "        0.107681,  0.025874,  0.020927, -0.010557,  0.067425, -0.00532 ,\n",
       "        0.016533, -0.067549, -0.035696,  0.044142, -0.044438,  0.083356,\n",
       "        0.003063, -0.067622,  0.045468,  0.064446, -0.029013, -0.012398,\n",
       "        0.03541 ,  0.041902,  0.094749,  0.053634,  0.096908, -0.038786,\n",
       "        0.006233,  0.01415 , -0.000771,  0.042422, -0.037947, -0.093653],\n",
       "      dtype=float32)"
      ]
     },
     "execution_count": 6,
     "metadata": {},
     "output_type": "execute_result"
    }
   ],
   "source": [
    "w2v_model['сталь_NOUN']"
   ]
  },
  {
   "cell_type": "code",
   "execution_count": 7,
   "metadata": {
    "slideshow": {
     "slide_type": "slide"
    }
   },
   "outputs": [
    {
     "data": {
      "text/plain": [
       "0.3970009496799472"
      ]
     },
     "execution_count": 7,
     "metadata": {},
     "output_type": "execute_result"
    }
   ],
   "source": [
    "w2v_model.similarity('станок_NOUN', 'цех_NOUN')"
   ]
  },
  {
   "cell_type": "code",
   "execution_count": 8,
   "metadata": {
    "slideshow": {
     "slide_type": "fragment"
    }
   },
   "outputs": [
    {
     "data": {
      "text/plain": [
       "0.01680529682931309"
      ]
     },
     "execution_count": 8,
     "metadata": {},
     "output_type": "execute_result"
    }
   ],
   "source": [
    "w2v_model.similarity('цех_NOUN', 'кошка_NOUN')"
   ]
  },
  {
   "cell_type": "code",
   "execution_count": 9,
   "metadata": {
    "slideshow": {
     "slide_type": "fragment"
    }
   },
   "outputs": [
    {
     "data": {
      "text/plain": [
       "0.8417642803087931"
      ]
     },
     "execution_count": 9,
     "metadata": {},
     "output_type": "execute_result"
    }
   ],
   "source": [
    "w2v_model.similarity('собака_NOUN', 'кошка_NOUN')"
   ]
  },
  {
   "cell_type": "code",
   "execution_count": 3,
   "metadata": {
    "slideshow": {
     "slide_type": "slide"
    }
   },
   "outputs": [
    {
     "data": {
      "text/plain": [
       "'банка_NOUN'"
      ]
     },
     "execution_count": 3,
     "metadata": {},
     "output_type": "execute_result"
    }
   ],
   "source": [
    "w2v_model.doesnt_match(['космонавт_NOUN', 'ракета_NOUN', 'полёт_NOUN', 'банка_NOUN'])"
   ]
  },
  {
   "cell_type": "code",
   "execution_count": 4,
   "metadata": {
    "slideshow": {
     "slide_type": "fragment"
    }
   },
   "outputs": [
    {
     "data": {
      "text/plain": [
       "'творог_NOUN'"
      ]
     },
     "execution_count": 4,
     "metadata": {},
     "output_type": "execute_result"
    }
   ],
   "source": [
    "w2v_model.doesnt_match(['кошка_NOUN', 'собака_NOUN', 'творог_NOUN', 'крокодил_NOUN'])"
   ]
  },
  {
   "cell_type": "code",
   "execution_count": 12,
   "metadata": {
    "slideshow": {
     "slide_type": "slide"
    }
   },
   "outputs": [
    {
     "name": "stdout",
     "output_type": "stream",
     "text": [
      "шторм_NOUN 0.7346199750900269\n",
      "ураган_NOUN 0.6847695112228394\n",
      "шквал_NOUN 0.6608145236968994\n",
      "гроза_NOUN 0.6256262063980103\n",
      "бушевать_VERB 0.6216868162155151\n",
      "вихорь_NOUN 0.6045905947685242\n",
      "смерч_NOUN 0.5785955786705017\n",
      "ливень_NOUN 0.5740789175033569\n",
      "вьюга_NOUN 0.5724593997001648\n",
      "ненастье_NOUN 0.5642626285552979\n",
      "гром_NOUN 0.5467021465301514\n",
      "метель_NOUN 0.5462476015090942\n",
      "ветер_NOUN 0.5415363311767578\n",
      "цунами_NOUN 0.5354753136634827\n",
      "волнение_NOUN 0.5273317694664001\n"
     ]
    }
   ],
   "source": [
    "pairs = w2v_model.most_similar(positive=['буря_NOUN'], topn=15)\n",
    "for word, score in pairs:\n",
    "    print(word, score)"
   ]
  },
  {
   "cell_type": "markdown",
   "metadata": {
    "slideshow": {
     "slide_type": "slide"
    }
   },
   "source": [
    "![alt text](pic3.png \"Title\")"
   ]
  },
  {
   "cell_type": "code",
   "execution_count": 5,
   "metadata": {
    "slideshow": {
     "slide_type": "slide"
    }
   },
   "outputs": [
    {
     "name": "stdout",
     "output_type": "stream",
     "text": [
      "мужчина_NOUN 0.6810498833656311\n"
     ]
    }
   ],
   "source": [
    "pairs = w2v_model.most_similar(positive=['королева_NOUN', 'женщина_NOUN'], negative=['король_NOUN'], topn=1)\n",
    "for word, score in pairs:\n",
    "    print(word, score)"
   ]
  },
  {
   "cell_type": "code",
   "execution_count": 17,
   "metadata": {
    "slideshow": {
     "slide_type": "fragment"
    }
   },
   "outputs": [
    {
     "name": "stdout",
     "output_type": "stream",
     "text": [
      "увеличение_NOUN 0.6744431853294373\n"
     ]
    }
   ],
   "source": [
    "pairs = w2v_model.most_similar(positive=['большой_ADJ', 'уменьшение_NOUN'], negative=['малый_ADJ'], topn=1)\n",
    "for word, score in pairs:\n",
    "    print(word, score)"
   ]
  },
  {
   "cell_type": "code",
   "execution_count": 7,
   "metadata": {
    "slideshow": {
     "slide_type": "fragment"
    }
   },
   "outputs": [
    {
     "name": "stdout",
     "output_type": "stream",
     "text": [
      "лондон_PROPN 0.7275359630584717\n"
     ]
    }
   ],
   "source": [
    "vec = w2v_model['москва_PROPN'] - w2v_model['россия_PROPN'] + w2v_model['англия_PROPN']\n",
    "\n",
    "pairs = w2v_model.similar_by_vector(vec, topn=1, restrict_vocab=None)\n",
    "for word, score in pairs:\n",
    "        print(word, score)"
   ]
  },
  {
   "cell_type": "markdown",
   "metadata": {
    "slideshow": {
     "slide_type": "slide"
    }
   },
   "source": [
    "# Применение\n",
    "- Машинный перевод\n",
    "- Расширение поисковых запросов \n",
    "- Классификация текстов\n",
    "- Определение тональности высказываний"
   ]
  },
  {
   "cell_type": "markdown",
   "metadata": {
    "slideshow": {
     "slide_type": "skip"
    }
   },
   "source": [
    "# Интересные ссылки\n",
    "\n",
    "https://code.google.com/archive/p/word2vec/\n",
    "\n",
    "https://arxiv.org/pdf/1301.3781.pdf\n",
    "\n",
    "http://rusvectores.org/ru/\n",
    "\n",
    "https://youtu.be/U0LOSHY7U5Q\n",
    "\n",
    "https://youtu.be/2_mVrQ8fQro\n",
    "\n",
    "https://youtu.be/7k_MOBYbw_w\n",
    "\n",
    "https://habrahabr.ru/post/249215/\n",
    "\n",
    "https://habrahabr.ru/company/mlclass/blog/270591/\n",
    "\n",
    "https://habrahabr.ru/post/275913/\n",
    "\n"
   ]
  },
  {
   "cell_type": "markdown",
   "metadata": {
    "slideshow": {
     "slide_type": "slide"
    }
   },
   "source": [
    "# Подвох"
   ]
  },
  {
   "cell_type": "code",
   "execution_count": 63,
   "metadata": {
    "slideshow": {
     "slide_type": "fragment"
    }
   },
   "outputs": [
    {
     "name": "stdout",
     "output_type": "stream",
     "text": [
      "[('кошка_NOUN', 0.820071280002594),\n",
      " ('котик_NOUN', 0.7888153791427612),\n",
      " ('котяра_NOUN', 0.7691910266876221),\n",
      " ('кошечка_NOUN', 0.7515416145324707),\n",
      " ('мурлыка_NOUN', 0.750743567943573)]\n"
     ]
    }
   ],
   "source": [
    "pprint(w2v_model.most_similar(positive=['кот_NOUN'], topn=5))"
   ]
  },
  {
   "cell_type": "code",
   "execution_count": 49,
   "metadata": {
    "slideshow": {
     "slide_type": "fragment"
    }
   },
   "outputs": [
    {
     "name": "stdout",
     "output_type": "stream",
     "text": [
      "[('спаибо_NOUN', 0.8570160865783691),\n",
      " ('спасибище_NOUN', 0.8269262909889221),\n",
      " ('спасиб_NOUN', 0.8243280649185181),\n",
      " ('спасибок_NOUN', 0.8180297017097473),\n",
      " ('спосибо_NOUN', 0.8178544044494629)]\n"
     ]
    }
   ],
   "source": [
    "pprint(w2v_model.most_similar(positive=['спасибо_NOUN'], topn=5))\n"
   ]
  },
  {
   "cell_type": "code",
   "execution_count": 50,
   "metadata": {
    "slideshow": {
     "slide_type": "slide"
    }
   },
   "outputs": [
    {
     "name": "stdout",
     "output_type": "stream",
     "text": [
      "[('нержавеющий_ADJ', 0.8966854810714722),\n",
      " ('сталь_NOUN', 0.7909191846847534),\n",
      " ('aisi_X', 0.7570265531539917),\n",
      " ('латунь_NOUN', 0.7536624073982239),\n",
      " ('оцинковывать_VERB', 0.7415972948074341)]\n"
     ]
    }
   ],
   "source": [
    "pprint(w2v_model.most_similar(positive=['нержавейка_NOUN'], topn=5))\n"
   ]
  },
  {
   "cell_type": "code",
   "execution_count": 51,
   "metadata": {
    "slideshow": {
     "slide_type": "fragment"
    }
   },
   "outputs": [
    {
     "name": "stdout",
     "output_type": "stream",
     "text": [
      "[('николаевич_PROPN', 0.6220238208770752),\n",
      " ('тигр_NOUN', 0.5941218137741089),\n",
      " ('волк_NOUN', 0.574286699295044),\n",
      " ('львица_NOUN', 0.5726791024208069),\n",
      " ('гиена_NOUN', 0.5721101760864258)]\n"
     ]
    }
   ],
   "source": [
    "pprint(w2v_model.most_similar(positive=['лев_NOUN'], topn=5))\n"
   ]
  },
  {
   "cell_type": "code",
   "execution_count": 52,
   "metadata": {
    "slideshow": {
     "slide_type": "fragment"
    }
   },
   "outputs": [
    {
     "name": "stdout",
     "output_type": "stream",
     "text": [
      "[('боеголовка_NOUN', 0.7894258499145508),\n",
      " ('ракетоноситель_NOUN', 0.773019552230835),\n",
      " ('противоракета_NOUN', 0.7577411532402039),\n",
      " ('баллистический_ADJ', 0.756476879119873),\n",
      " ('противокорабельный_ADJ', 0.7446105480194092)]\n"
     ]
    }
   ],
   "source": [
    "pprint(w2v_model.most_similar(positive=['ракета_NOUN'], topn=5))\n"
   ]
  },
  {
   "cell_type": "markdown",
   "metadata": {
    "slideshow": {
     "slide_type": "slide"
    }
   },
   "source": [
    "# 2. Машинки и деревья"
   ]
  },
  {
   "cell_type": "markdown",
   "metadata": {
    "slideshow": {
     "slide_type": "fragment"
    }
   },
   "source": [
    "В этой главе мы попытаемся разнообразить поиск ассоциаций алгоритма word2vec отсечением \"скучных\" ассоциаций."
   ]
  },
  {
   "cell_type": "markdown",
   "metadata": {
    "slideshow": {
     "slide_type": "slide"
    }
   },
   "source": [
    "## 2.1. Машинное обучение "
   ]
  },
  {
   "cell_type": "markdown",
   "metadata": {
    "slideshow": {
     "slide_type": "slide"
    }
   },
   "source": [
    "__Маши́нное обуче́ние__ — класс методов искусственного интеллекта, характерной чертой которых является не прямое решение задачи, а обучение в процессе применения решений множества сходных задач."
   ]
  },
  {
   "cell_type": "markdown",
   "metadata": {
    "slideshow": {
     "slide_type": "slide"
    }
   },
   "source": [
    "## 2.2. Типы задач\n",
    "\n",
    "- Классификация (к какому из известных классов относится объект?)\n",
    "- Регрессия (чему равна некоторая характеристика объекта?)\n",
    "- Ранжирование (какой порядок должен быть у элементов в списке?)\n",
    "- Кластеризация (на какие множества можно разделить объекты?)"
   ]
  },
  {
   "cell_type": "markdown",
   "metadata": {
    "slideshow": {
     "slide_type": "slide"
    }
   },
   "source": [
    "## 2.3. Классификация\n",
    "\n",
    "Основная задача - по обучающему множеству восстановить алгоритм определения класса объекта"
   ]
  },
  {
   "cell_type": "markdown",
   "metadata": {
    "slideshow": {
     "slide_type": "skip"
    }
   },
   "source": [
    "https://habr.com/post/274171/"
   ]
  },
  {
   "cell_type": "markdown",
   "metadata": {
    "slideshow": {
     "slide_type": "slide"
    }
   },
   "source": [
    "__Задача обучения по прецедентам__\n",
    "\n",
    "$X$ — множество объектов\n",
    "\n",
    "$Y$ — множество ответов\n",
    "\n",
    "$y: X \\rightarrow Y$ — неизвестная зависимость"
   ]
  },
  {
   "cell_type": "markdown",
   "metadata": {
    "slideshow": {
     "slide_type": "fragment"
    }
   },
   "source": [
    "__Дано__\n",
    "\n",
    "\n",
    "$\\{x_1, \\ldots, x_d\\} \\subset X$ — обучающая выборка (dataset)\n",
    "\n",
    "$y_i = y(x_i),$    $i = 1, \\ldots, d$ — известные ответы"
   ]
  },
  {
   "cell_type": "markdown",
   "metadata": {
    "slideshow": {
     "slide_type": "fragment"
    }
   },
   "source": [
    "__Найти__\n",
    "\n",
    "\n",
    "$a: X \\rightarrow Y$"
   ]
  },
  {
   "cell_type": "markdown",
   "metadata": {
    "slideshow": {
     "slide_type": "slide"
    }
   },
   "source": [
    "## 2.4. Признаки и целевая переменная\n",
    "\n",
    "$\n",
    "\\begin{pmatrix}\n",
    "    x_{11} & x_{12} & x_{13} & \\dots  & x_{1n} \\\\\n",
    "    x_{21} & x_{22} & x_{23} & \\dots  & x_{2n} \\\\\n",
    "    \\vdots & \\vdots & \\vdots & \\ddots & \\vdots \\\\\n",
    "    x_{d1} & x_{d2} & x_{d3} & \\dots  & x_{dn}\n",
    "\\end{pmatrix}\n",
    "$\n",
    "$\n",
    "\\begin{pmatrix}\n",
    "    y_{1} \\\\\n",
    "    y_{2} \\\\\n",
    "    \\vdots \\\\\n",
    "    y_{d}\n",
    "\\end{pmatrix}\n",
    "$\n",
    "\n",
    "В подобной записи $x_i$ - признак, а $y_i$ - целевая переменная "
   ]
  },
  {
   "cell_type": "code",
   "execution_count": 62,
   "metadata": {
    "slideshow": {
     "slide_type": "skip"
    }
   },
   "outputs": [
    {
     "data": {
      "text/html": [
       "<div>\n",
       "<style>\n",
       "    .dataframe thead tr:only-child th {\n",
       "        text-align: right;\n",
       "    }\n",
       "\n",
       "    .dataframe thead th {\n",
       "        text-align: left;\n",
       "    }\n",
       "\n",
       "    .dataframe tbody tr th {\n",
       "        vertical-align: top;\n",
       "    }\n",
       "</style>\n",
       "<table border=\"1\" class=\"dataframe\">\n",
       "  <thead>\n",
       "    <tr style=\"text-align: right;\">\n",
       "      <th></th>\n",
       "      <th>fixed acidity</th>\n",
       "      <th>volatile acidity</th>\n",
       "      <th>citric acid</th>\n",
       "      <th>residual sugar</th>\n",
       "      <th>chlorides</th>\n",
       "      <th>free sulfur dioxide</th>\n",
       "      <th>total sulfur dioxide</th>\n",
       "      <th>density</th>\n",
       "      <th>pH</th>\n",
       "      <th>sulphates</th>\n",
       "      <th>alcohol</th>\n",
       "      <th>quality</th>\n",
       "    </tr>\n",
       "  </thead>\n",
       "  <tbody>\n",
       "    <tr>\n",
       "      <th>0</th>\n",
       "      <td>7.4</td>\n",
       "      <td>0.70</td>\n",
       "      <td>0.00</td>\n",
       "      <td>1.9</td>\n",
       "      <td>0.076</td>\n",
       "      <td>11.0</td>\n",
       "      <td>34.0</td>\n",
       "      <td>0.9978</td>\n",
       "      <td>3.51</td>\n",
       "      <td>0.56</td>\n",
       "      <td>9.4</td>\n",
       "      <td>5</td>\n",
       "    </tr>\n",
       "    <tr>\n",
       "      <th>1</th>\n",
       "      <td>7.8</td>\n",
       "      <td>0.88</td>\n",
       "      <td>0.00</td>\n",
       "      <td>2.6</td>\n",
       "      <td>0.098</td>\n",
       "      <td>25.0</td>\n",
       "      <td>67.0</td>\n",
       "      <td>0.9968</td>\n",
       "      <td>3.20</td>\n",
       "      <td>0.68</td>\n",
       "      <td>9.8</td>\n",
       "      <td>5</td>\n",
       "    </tr>\n",
       "    <tr>\n",
       "      <th>2</th>\n",
       "      <td>7.8</td>\n",
       "      <td>0.76</td>\n",
       "      <td>0.04</td>\n",
       "      <td>2.3</td>\n",
       "      <td>0.092</td>\n",
       "      <td>15.0</td>\n",
       "      <td>54.0</td>\n",
       "      <td>0.9970</td>\n",
       "      <td>3.26</td>\n",
       "      <td>0.65</td>\n",
       "      <td>9.8</td>\n",
       "      <td>5</td>\n",
       "    </tr>\n",
       "    <tr>\n",
       "      <th>3</th>\n",
       "      <td>11.2</td>\n",
       "      <td>0.28</td>\n",
       "      <td>0.56</td>\n",
       "      <td>1.9</td>\n",
       "      <td>0.075</td>\n",
       "      <td>17.0</td>\n",
       "      <td>60.0</td>\n",
       "      <td>0.9980</td>\n",
       "      <td>3.16</td>\n",
       "      <td>0.58</td>\n",
       "      <td>9.8</td>\n",
       "      <td>6</td>\n",
       "    </tr>\n",
       "    <tr>\n",
       "      <th>4</th>\n",
       "      <td>7.4</td>\n",
       "      <td>0.70</td>\n",
       "      <td>0.00</td>\n",
       "      <td>1.9</td>\n",
       "      <td>0.076</td>\n",
       "      <td>11.0</td>\n",
       "      <td>34.0</td>\n",
       "      <td>0.9978</td>\n",
       "      <td>3.51</td>\n",
       "      <td>0.56</td>\n",
       "      <td>9.4</td>\n",
       "      <td>5</td>\n",
       "    </tr>\n",
       "  </tbody>\n",
       "</table>\n",
       "</div>"
      ],
      "text/plain": [
       "   fixed acidity  volatile acidity  citric acid  residual sugar  chlorides  \\\n",
       "0            7.4              0.70         0.00             1.9      0.076   \n",
       "1            7.8              0.88         0.00             2.6      0.098   \n",
       "2            7.8              0.76         0.04             2.3      0.092   \n",
       "3           11.2              0.28         0.56             1.9      0.075   \n",
       "4            7.4              0.70         0.00             1.9      0.076   \n",
       "\n",
       "   free sulfur dioxide  total sulfur dioxide  density    pH  sulphates  \\\n",
       "0                 11.0                  34.0   0.9978  3.51       0.56   \n",
       "1                 25.0                  67.0   0.9968  3.20       0.68   \n",
       "2                 15.0                  54.0   0.9970  3.26       0.65   \n",
       "3                 17.0                  60.0   0.9980  3.16       0.58   \n",
       "4                 11.0                  34.0   0.9978  3.51       0.56   \n",
       "\n",
       "   alcohol  quality  \n",
       "0      9.4        5  \n",
       "1      9.8        5  \n",
       "2      9.8        5  \n",
       "3      9.8        6  \n",
       "4      9.4        5  "
      ]
     },
     "execution_count": 62,
     "metadata": {},
     "output_type": "execute_result"
    }
   ],
   "source": [
    "pd.read_csv('http://mlr.cs.umass.edu/ml/machine-learning-databases/wine-quality/winequality-red.csv', sep=';').head()"
   ]
  },
  {
   "cell_type": "code",
   "execution_count": 61,
   "metadata": {
    "slideshow": {
     "slide_type": "skip"
    }
   },
   "outputs": [
    {
     "data": {
      "text/html": [
       "<div>\n",
       "<style>\n",
       "    .dataframe thead tr:only-child th {\n",
       "        text-align: right;\n",
       "    }\n",
       "\n",
       "    .dataframe thead th {\n",
       "        text-align: left;\n",
       "    }\n",
       "\n",
       "    .dataframe tbody tr th {\n",
       "        vertical-align: top;\n",
       "    }\n",
       "</style>\n",
       "<table border=\"1\" class=\"dataframe\">\n",
       "  <thead>\n",
       "    <tr style=\"text-align: right;\">\n",
       "      <th></th>\n",
       "      <th>sepal length</th>\n",
       "      <th>sepal width</th>\n",
       "      <th>petal length</th>\n",
       "      <th>petal width</th>\n",
       "      <th>class</th>\n",
       "    </tr>\n",
       "  </thead>\n",
       "  <tbody>\n",
       "    <tr>\n",
       "      <th>0</th>\n",
       "      <td>5.1</td>\n",
       "      <td>3.5</td>\n",
       "      <td>1.4</td>\n",
       "      <td>0.2</td>\n",
       "      <td>Iris-setosa</td>\n",
       "    </tr>\n",
       "    <tr>\n",
       "      <th>1</th>\n",
       "      <td>4.9</td>\n",
       "      <td>3.0</td>\n",
       "      <td>1.4</td>\n",
       "      <td>0.2</td>\n",
       "      <td>Iris-setosa</td>\n",
       "    </tr>\n",
       "    <tr>\n",
       "      <th>2</th>\n",
       "      <td>4.7</td>\n",
       "      <td>3.2</td>\n",
       "      <td>1.3</td>\n",
       "      <td>0.2</td>\n",
       "      <td>Iris-setosa</td>\n",
       "    </tr>\n",
       "    <tr>\n",
       "      <th>3</th>\n",
       "      <td>4.6</td>\n",
       "      <td>3.1</td>\n",
       "      <td>1.5</td>\n",
       "      <td>0.2</td>\n",
       "      <td>Iris-setosa</td>\n",
       "    </tr>\n",
       "    <tr>\n",
       "      <th>4</th>\n",
       "      <td>5.0</td>\n",
       "      <td>3.6</td>\n",
       "      <td>1.4</td>\n",
       "      <td>0.2</td>\n",
       "      <td>Iris-setosa</td>\n",
       "    </tr>\n",
       "  </tbody>\n",
       "</table>\n",
       "</div>"
      ],
      "text/plain": [
       "   sepal length  sepal width  petal length  petal width        class\n",
       "0           5.1          3.5           1.4          0.2  Iris-setosa\n",
       "1           4.9          3.0           1.4          0.2  Iris-setosa\n",
       "2           4.7          3.2           1.3          0.2  Iris-setosa\n",
       "3           4.6          3.1           1.5          0.2  Iris-setosa\n",
       "4           5.0          3.6           1.4          0.2  Iris-setosa"
      ]
     },
     "execution_count": 61,
     "metadata": {},
     "output_type": "execute_result"
    }
   ],
   "source": [
    "pd.read_csv('http://mlr.cs.umass.edu/ml/machine-learning-databases/iris/iris.data', names=['sepal length', 'sepal width', 'petal length', 'petal width', 'class']).head()"
   ]
  },
  {
   "cell_type": "markdown",
   "metadata": {
    "slideshow": {
     "slide_type": "slide"
    }
   },
   "source": [
    "## 2.5. Как выглядит датасет "
   ]
  },
  {
   "cell_type": "markdown",
   "metadata": {
    "slideshow": {
     "slide_type": "fragment"
    }
   },
   "source": [
    "![](typycal_datasets.png)"
   ]
  },
  {
   "cell_type": "markdown",
   "metadata": {
    "slideshow": {
     "slide_type": "skip"
    }
   },
   "source": [
    "sepal - чашелистик\n",
    "\n",
    "petal - лепесток\n",
    "\n",
    "https://elitedatascience.com/python-machine-learning-tutorial-scikit-learn"
   ]
  },
  {
   "cell_type": "markdown",
   "metadata": {
    "slideshow": {
     "slide_type": "slide"
    }
   },
   "source": [
    "## 2.6. Работа машинного учителя"
   ]
  },
  {
   "cell_type": "markdown",
   "metadata": {
    "slideshow": {
     "slide_type": "fragment"
    }
   },
   "source": [
    "- Первичные анализ и обработка данных\n",
    "- Выбор алгоритма машинного обучения\n",
    "- Настройка архитектуры алгоритма"
   ]
  },
  {
   "cell_type": "markdown",
   "metadata": {
    "slideshow": {
     "slide_type": "slide"
    }
   },
   "source": [
    "## 2.7. Задача\n",
    "\n",
    "- По строковому представлению пары слов классифицировать пару как однокоренную/разнокоренную\n",
    "- Найти такое представление расстояния между строками, чтобы схожие строки были близки\n",
    "- Собрать обучающую выборку\n",
    "- Выбрать алгоритм машинного обучения\n",
    "- Найти качественную архитектуру алгоритма"
   ]
  },
  {
   "cell_type": "markdown",
   "metadata": {
    "slideshow": {
     "slide_type": "slide"
    }
   },
   "source": [
    "__Осно́ва__ — неизменяемая часть слова"
   ]
  },
  {
   "cell_type": "markdown",
   "metadata": {
    "slideshow": {
     "slide_type": "slide"
    }
   },
   "source": [
    "## 2.8. Редакционное расстояние Левенштейна\n",
    "\n",
    "Это минимальное количество операций вставки одного символа, удаления одного символа и\n",
    "замены одного символа на другой, необходимых для превращения одной строки в другую."
   ]
  },
  {
   "cell_type": "markdown",
   "metadata": {
    "slideshow": {
     "slide_type": "slide"
    }
   },
   "source": [
    "Расстояние между строковыми представлениями слов будем вычислять, как расстояние Левенштейна между основами этих слов."
   ]
  },
  {
   "cell_type": "markdown",
   "metadata": {
    "slideshow": {
     "slide_type": "fragment"
    }
   },
   "source": [
    "![](Levenstein.png)"
   ]
  },
  {
   "cell_type": "markdown",
   "metadata": {
    "slideshow": {
     "slide_type": "fragment"
    }
   },
   "source": [
    "Не будем суммировать все три компоненты расстояния Левенштейна, а будем учитывать все по-отдельности."
   ]
  },
  {
   "cell_type": "markdown",
   "metadata": {
    "slideshow": {
     "slide_type": "slide"
    }
   },
   "source": [
    "## 2.9. Обучаемся"
   ]
  },
  {
   "cell_type": "markdown",
   "metadata": {
    "slideshow": {
     "slide_type": "slide"
    }
   },
   "source": [
    "## 3.0. Готовим датасет"
   ]
  },
  {
   "cell_type": "markdown",
   "metadata": {
    "slideshow": {
     "slide_type": "slide"
    }
   },
   "source": [
    "На просторах интернета находим 5000 наиболее частых для русского языка слов. На их основании\n",
    "составляем таблицу на примерно 320 тысяч пар слов с указанием однокоренных/омонимичных по\n",
    "корню. Хотя бы одно слово из пары всегда входит в 5000 самых частых в языке. Структура таблицы:"
   ]
  },
  {
   "cell_type": "markdown",
   "metadata": {
    "slideshow": {
     "slide_type": "fragment"
    }
   },
   "source": [
    "![](dataset_sample0.png)"
   ]
  },
  {
   "cell_type": "markdown",
   "metadata": {
    "slideshow": {
     "slide_type": "slide"
    }
   },
   "source": [
    "Теперь сделаем из этой таблицы новую.\n",
    "\n",
    "Столбцами будут: maxLen, minLen, add, delete, change, simCode.\n",
    "\n",
    "Показатель simCode == 1, если слова в примере однокоренные, и -1, если нет."
   ]
  },
  {
   "cell_type": "markdown",
   "metadata": {
    "slideshow": {
     "slide_type": "fragment"
    }
   },
   "source": [
    "![](dataset_sample.png)"
   ]
  },
  {
   "cell_type": "markdown",
   "metadata": {
    "slideshow": {
     "slide_type": "fragment"
    }
   },
   "source": [
    "Выборка составлена так, что однокоренных и разнокоренных слов у нас примерно поровну."
   ]
  },
  {
   "cell_type": "code",
   "execution_count": 1,
   "metadata": {
    "slideshow": {
     "slide_type": "slide"
    }
   },
   "outputs": [],
   "source": [
    "import pandas as pd\n",
    "import numpy as np\n",
    "from sklearn.model_selection import train_test_split"
   ]
  },
  {
   "cell_type": "code",
   "execution_count": 2,
   "metadata": {
    "slideshow": {
     "slide_type": "fragment"
    }
   },
   "outputs": [
    {
     "data": {
      "text/html": [
       "<div>\n",
       "<style>\n",
       "    .dataframe thead tr:only-child th {\n",
       "        text-align: right;\n",
       "    }\n",
       "\n",
       "    .dataframe thead th {\n",
       "        text-align: left;\n",
       "    }\n",
       "\n",
       "    .dataframe tbody tr th {\n",
       "        vertical-align: top;\n",
       "    }\n",
       "</style>\n",
       "<table border=\"1\" class=\"dataframe\">\n",
       "  <thead>\n",
       "    <tr style=\"text-align: right;\">\n",
       "      <th></th>\n",
       "      <th>maxLen</th>\n",
       "      <th>minLen</th>\n",
       "      <th>add</th>\n",
       "      <th>delete</th>\n",
       "      <th>change</th>\n",
       "      <th>simCode</th>\n",
       "    </tr>\n",
       "  </thead>\n",
       "  <tbody>\n",
       "    <tr>\n",
       "      <th>0</th>\n",
       "      <td>15</td>\n",
       "      <td>6</td>\n",
       "      <td>9</td>\n",
       "      <td>0</td>\n",
       "      <td>3</td>\n",
       "      <td>-1</td>\n",
       "    </tr>\n",
       "    <tr>\n",
       "      <th>1</th>\n",
       "      <td>15</td>\n",
       "      <td>6</td>\n",
       "      <td>9</td>\n",
       "      <td>0</td>\n",
       "      <td>4</td>\n",
       "      <td>-1</td>\n",
       "    </tr>\n",
       "    <tr>\n",
       "      <th>2</th>\n",
       "      <td>15</td>\n",
       "      <td>7</td>\n",
       "      <td>8</td>\n",
       "      <td>0</td>\n",
       "      <td>5</td>\n",
       "      <td>-1</td>\n",
       "    </tr>\n",
       "    <tr>\n",
       "      <th>3</th>\n",
       "      <td>18</td>\n",
       "      <td>8</td>\n",
       "      <td>11</td>\n",
       "      <td>1</td>\n",
       "      <td>2</td>\n",
       "      <td>-1</td>\n",
       "    </tr>\n",
       "    <tr>\n",
       "      <th>4</th>\n",
       "      <td>18</td>\n",
       "      <td>4</td>\n",
       "      <td>15</td>\n",
       "      <td>1</td>\n",
       "      <td>2</td>\n",
       "      <td>-1</td>\n",
       "    </tr>\n",
       "  </tbody>\n",
       "</table>\n",
       "</div>"
      ],
      "text/plain": [
       "   maxLen  minLen  add  delete  change  simCode\n",
       "0      15       6    9       0       3       -1\n",
       "1      15       6    9       0       4       -1\n",
       "2      15       7    8       0       5       -1\n",
       "3      18       8   11       1       2       -1\n",
       "4      18       4   15       1       2       -1"
      ]
     },
     "execution_count": 2,
     "metadata": {},
     "output_type": "execute_result"
    }
   ],
   "source": [
    "data = pd.read_csv(r\"dataset320.csv\", sep=';', index_col=0)\n",
    "data.head()"
   ]
  },
  {
   "cell_type": "code",
   "execution_count": 3,
   "metadata": {
    "slideshow": {
     "slide_type": "fragment"
    }
   },
   "outputs": [],
   "source": [
    "y = data.simCode\n",
    "X = data.drop('simCode', axis=1)\n",
    "\n",
    "X_train, X_test, y_train, y_test = train_test_split(X, y, test_size=0.2, random_state=123, stratify=y)"
   ]
  },
  {
   "cell_type": "markdown",
   "metadata": {
    "slideshow": {
     "slide_type": "slide"
    }
   },
   "source": [
    "## 3.1. Решающее дерево"
   ]
  },
  {
   "cell_type": "code",
   "execution_count": 4,
   "metadata": {
    "scrolled": true,
    "slideshow": {
     "slide_type": "fragment"
    }
   },
   "outputs": [
    {
     "data": {
      "text/plain": [
       "DecisionTreeClassifier(class_weight=None, criterion='gini', max_depth=None,\n",
       "            max_features=None, max_leaf_nodes=None,\n",
       "            min_impurity_decrease=0.0, min_impurity_split=None,\n",
       "            min_samples_leaf=1, min_samples_split=2,\n",
       "            min_weight_fraction_leaf=0.0, presort=False, random_state=123,\n",
       "            splitter='best')"
      ]
     },
     "execution_count": 4,
     "metadata": {},
     "output_type": "execute_result"
    }
   ],
   "source": [
    "from sklearn.tree import DecisionTreeClassifier\n",
    "\n",
    "dt_clf = DecisionTreeClassifier(random_state=123)\n",
    "\n",
    "dt_clf.fit(X_train, y_train)"
   ]
  },
  {
   "cell_type": "markdown",
   "metadata": {
    "slideshow": {
     "slide_type": "skip"
    }
   },
   "source": [
    "https://tproger.ru/translations/top-machine-learning-algorithms/\n",
    "\n",
    "Алгоритмы построения решающих деревьев:\n",
    "\n",
    "- Алгоритм ID3\n",
    "- Алгоритм C4.5\n",
    "- Алгоритм C5.0\n",
    "- Алгоритм CART\n",
    "- Алгоритм LISTBB"
   ]
  },
  {
   "cell_type": "markdown",
   "metadata": {
    "slideshow": {
     "slide_type": "slide"
    }
   },
   "source": [
    "## 3.2. Случайный лес"
   ]
  },
  {
   "cell_type": "code",
   "execution_count": 5,
   "metadata": {
    "slideshow": {
     "slide_type": "fragment"
    }
   },
   "outputs": [
    {
     "data": {
      "text/plain": [
       "RandomForestClassifier(bootstrap=True, class_weight=None, criterion='gini',\n",
       "            max_depth=None, max_features='auto', max_leaf_nodes=None,\n",
       "            min_impurity_decrease=0.0, min_impurity_split=None,\n",
       "            min_samples_leaf=1, min_samples_split=2,\n",
       "            min_weight_fraction_leaf=0.0, n_estimators=10, n_jobs=1,\n",
       "            oob_score=False, random_state=123, verbose=0, warm_start=False)"
      ]
     },
     "execution_count": 5,
     "metadata": {},
     "output_type": "execute_result"
    }
   ],
   "source": [
    "from sklearn.ensemble import RandomForestClassifier\n",
    "\n",
    "rf_clf = RandomForestClassifier(random_state=123)\n",
    "\n",
    "rf_clf.fit(X_train, y_train)"
   ]
  },
  {
   "cell_type": "markdown",
   "metadata": {
    "slideshow": {
     "slide_type": "slide"
    }
   },
   "source": [
    "## 3.3. Градиентный бустинг"
   ]
  },
  {
   "cell_type": "code",
   "execution_count": 6,
   "metadata": {
    "slideshow": {
     "slide_type": "fragment"
    }
   },
   "outputs": [
    {
     "data": {
      "text/plain": [
       "GradientBoostingClassifier(criterion='friedman_mse', init=None,\n",
       "              learning_rate=0.1, loss='deviance', max_depth=3,\n",
       "              max_features=None, max_leaf_nodes=None,\n",
       "              min_impurity_decrease=0.0, min_impurity_split=None,\n",
       "              min_samples_leaf=1, min_samples_split=2,\n",
       "              min_weight_fraction_leaf=0.0, n_estimators=100,\n",
       "              presort='auto', random_state=123, subsample=1.0, verbose=0,\n",
       "              warm_start=False)"
      ]
     },
     "execution_count": 6,
     "metadata": {},
     "output_type": "execute_result"
    }
   ],
   "source": [
    "from sklearn.ensemble import GradientBoostingClassifier\n",
    "\n",
    "gbt_clf = GradientBoostingClassifier(random_state=123)\n",
    "\n",
    "gbt_clf.fit(X_train, y_train)"
   ]
  },
  {
   "cell_type": "markdown",
   "metadata": {
    "slideshow": {
     "slide_type": "skip"
    }
   },
   "source": [
    "https://habr.com/company/ods/blog/327250/"
   ]
  },
  {
   "cell_type": "markdown",
   "metadata": {
    "slideshow": {
     "slide_type": "slide"
    }
   },
   "source": [
    "## 3.4. Работа моделей"
   ]
  },
  {
   "cell_type": "code",
   "execution_count": 7,
   "metadata": {
    "slideshow": {
     "slide_type": "fragment"
    }
   },
   "outputs": [
    {
     "name": "stdout",
     "output_type": "stream",
     "text": [
      "[1]\n",
      "[1]\n",
      "[1]\n",
      "\n",
      "[-1]\n",
      "[-1]\n",
      "[-1]\n"
     ]
    }
   ],
   "source": [
    "from distance import distance\n",
    "\n",
    "print(dt_clf.predict([distance('снег', 'снеговик')]))\n",
    "print(rf_clf.predict([distance('снег', 'снеговик')]))\n",
    "print(gbt_clf.predict([distance('снег', 'снеговик')]))\n",
    "print()\n",
    "print(dt_clf.predict([distance('рябчик', 'ананас')]))\n",
    "print(rf_clf.predict([distance('рябчик', 'ананас')]))\n",
    "print(gbt_clf.predict([distance('рябчик', 'ананас')]))"
   ]
  },
  {
   "cell_type": "markdown",
   "metadata": {
    "slideshow": {
     "slide_type": "slide"
    }
   },
   "source": [
    "## 3.1. Оценка качества"
   ]
  },
  {
   "cell_type": "markdown",
   "metadata": {
    "slideshow": {
     "slide_type": "slide"
    }
   },
   "source": [
    "В задачах машинного обучения для оценки качества моделей и сравнения различных алгоритмов используются __ме́трики__, а их выбор и анализ — непременная часть работы датасатаниста."
   ]
  },
  {
   "cell_type": "code",
   "execution_count": 8,
   "metadata": {
    "slideshow": {
     "slide_type": "slide"
    }
   },
   "outputs": [
    {
     "name": "stdout",
     "output_type": "stream",
     "text": [
      "0.9643696625441146\n",
      "0.9652351061423784\n",
      "0.9656035644518811\n"
     ]
    }
   ],
   "source": [
    "from sklearn.metrics import *\n",
    "\n",
    "for clf in [dt_clf, rf_clf, gbt_clf]:\n",
    "    y_pred = clf.predict_proba(X_test)[:,1]\n",
    "    print(average_precision_score(y_test, y_pred))"
   ]
  },
  {
   "cell_type": "markdown",
   "metadata": {
    "scrolled": true,
    "slideshow": {
     "slide_type": "slide"
    }
   },
   "source": [
    "## 3.2. Доучивание"
   ]
  },
  {
   "cell_type": "code",
   "execution_count": 11,
   "metadata": {
    "slideshow": {
     "slide_type": "skip"
    }
   },
   "outputs": [
    {
     "data": {
      "text/html": [
       "<div>\n",
       "<style>\n",
       "    .dataframe thead tr:only-child th {\n",
       "        text-align: right;\n",
       "    }\n",
       "\n",
       "    .dataframe thead th {\n",
       "        text-align: left;\n",
       "    }\n",
       "\n",
       "    .dataframe tbody tr th {\n",
       "        vertical-align: top;\n",
       "    }\n",
       "</style>\n",
       "<table border=\"1\" class=\"dataframe\">\n",
       "  <thead>\n",
       "    <tr style=\"text-align: right;\">\n",
       "      <th></th>\n",
       "      <th>maxLen</th>\n",
       "      <th>minLen</th>\n",
       "      <th>add</th>\n",
       "      <th>delete</th>\n",
       "      <th>change</th>\n",
       "      <th>simCode</th>\n",
       "    </tr>\n",
       "  </thead>\n",
       "  <tbody>\n",
       "    <tr>\n",
       "      <th>count</th>\n",
       "      <td>326739.000000</td>\n",
       "      <td>326739.000000</td>\n",
       "      <td>326739.000000</td>\n",
       "      <td>326739.000000</td>\n",
       "      <td>326739.000000</td>\n",
       "      <td>326739.000000</td>\n",
       "    </tr>\n",
       "    <tr>\n",
       "      <th>mean</th>\n",
       "      <td>8.948962</td>\n",
       "      <td>5.896205</td>\n",
       "      <td>3.325253</td>\n",
       "      <td>0.272496</td>\n",
       "      <td>2.823648</td>\n",
       "      <td>0.020637</td>\n",
       "    </tr>\n",
       "    <tr>\n",
       "      <th>std</th>\n",
       "      <td>2.754021</td>\n",
       "      <td>1.909924</td>\n",
       "      <td>2.424509</td>\n",
       "      <td>0.576673</td>\n",
       "      <td>2.356393</td>\n",
       "      <td>0.999789</td>\n",
       "    </tr>\n",
       "    <tr>\n",
       "      <th>min</th>\n",
       "      <td>2.000000</td>\n",
       "      <td>1.000000</td>\n",
       "      <td>0.000000</td>\n",
       "      <td>0.000000</td>\n",
       "      <td>0.000000</td>\n",
       "      <td>-1.000000</td>\n",
       "    </tr>\n",
       "    <tr>\n",
       "      <th>25%</th>\n",
       "      <td>7.000000</td>\n",
       "      <td>5.000000</td>\n",
       "      <td>2.000000</td>\n",
       "      <td>0.000000</td>\n",
       "      <td>1.000000</td>\n",
       "      <td>-1.000000</td>\n",
       "    </tr>\n",
       "    <tr>\n",
       "      <th>50%</th>\n",
       "      <td>9.000000</td>\n",
       "      <td>6.000000</td>\n",
       "      <td>3.000000</td>\n",
       "      <td>0.000000</td>\n",
       "      <td>3.000000</td>\n",
       "      <td>1.000000</td>\n",
       "    </tr>\n",
       "    <tr>\n",
       "      <th>75%</th>\n",
       "      <td>10.000000</td>\n",
       "      <td>7.000000</td>\n",
       "      <td>5.000000</td>\n",
       "      <td>0.000000</td>\n",
       "      <td>5.000000</td>\n",
       "      <td>1.000000</td>\n",
       "    </tr>\n",
       "    <tr>\n",
       "      <th>max</th>\n",
       "      <td>27.000000</td>\n",
       "      <td>18.000000</td>\n",
       "      <td>24.000000</td>\n",
       "      <td>5.000000</td>\n",
       "      <td>16.000000</td>\n",
       "      <td>1.000000</td>\n",
       "    </tr>\n",
       "  </tbody>\n",
       "</table>\n",
       "</div>"
      ],
      "text/plain": [
       "              maxLen         minLen            add         delete  \\\n",
       "count  326739.000000  326739.000000  326739.000000  326739.000000   \n",
       "mean        8.948962       5.896205       3.325253       0.272496   \n",
       "std         2.754021       1.909924       2.424509       0.576673   \n",
       "min         2.000000       1.000000       0.000000       0.000000   \n",
       "25%         7.000000       5.000000       2.000000       0.000000   \n",
       "50%         9.000000       6.000000       3.000000       0.000000   \n",
       "75%        10.000000       7.000000       5.000000       0.000000   \n",
       "max        27.000000      18.000000      24.000000       5.000000   \n",
       "\n",
       "              change        simCode  \n",
       "count  326739.000000  326739.000000  \n",
       "mean        2.823648       0.020637  \n",
       "std         2.356393       0.999789  \n",
       "min         0.000000      -1.000000  \n",
       "25%         1.000000      -1.000000  \n",
       "50%         3.000000       1.000000  \n",
       "75%         5.000000       1.000000  \n",
       "max        16.000000       1.000000  "
      ]
     },
     "execution_count": 11,
     "metadata": {},
     "output_type": "execute_result"
    }
   ],
   "source": [
    "data.describe()"
   ]
  },
  {
   "cell_type": "code",
   "execution_count": 20,
   "metadata": {
    "slideshow": {
     "slide_type": "slide"
    }
   },
   "outputs": [
    {
     "data": {
      "text/plain": [
       "GridSearchCV(cv=10, error_score='raise',\n",
       "       estimator=RandomForestClassifier(bootstrap=True, class_weight=None, criterion='gini',\n",
       "            max_depth=None, max_features='auto', max_leaf_nodes=None,\n",
       "            min_impurity_decrease=0.0, min_impurity_split=None,\n",
       "            min_samples_leaf=1, min_samples_split=2,\n",
       "            min_weight_fraction_leaf=0.0, n_estimators=10, n_jobs=1,\n",
       "            oob_score=False, random_state=None, verbose=0,\n",
       "            warm_start=False),\n",
       "       fit_params={}, iid=True, n_jobs=1,\n",
       "       param_grid={'max_depth': [9, 10, 11], 'max_features': ['log2'], 'bootstrap': [True, False], 'n_jobs': [-1]},\n",
       "       pre_dispatch='2*n_jobs', refit=True, scoring=None, verbose=0)"
      ]
     },
     "execution_count": 20,
     "metadata": {},
     "output_type": "execute_result"
    }
   ],
   "source": [
    "from sklearn.grid_search import GridSearchCV\n",
    "from sklearn.pipeline import make_pipeline\n",
    "from sklearn import preprocessing\n",
    "\n",
    "pipeline = make_pipeline(preprocessing.StandardScaler(), RandomForestClassifier(n_estimators=100))\n",
    "\n",
    "hyperparameters = { 'max_depth': [9, 10, 11],\n",
    "                    'max_features': ['log2'],\n",
    "                    'bootstrap': [True, False],\n",
    "                    'n_jobs': [-1]\n",
    "}\n",
    "\n",
    "grid = GridSearchCV(clf, hyperparameters, cv=10)\n",
    "\n",
    "grid.fit(X_train, y_train)"
   ]
  },
  {
   "cell_type": "code",
   "execution_count": 21,
   "metadata": {
    "slideshow": {
     "slide_type": "fragment"
    }
   },
   "outputs": [
    {
     "name": "stdout",
     "output_type": "stream",
     "text": [
      "0.9667207918825866\n"
     ]
    }
   ],
   "source": [
    "y_pred = grid.predict_proba(X_test)[:,1]\n",
    "print(average_precision_score(y_test, y_pred))"
   ]
  },
  {
   "cell_type": "markdown",
   "metadata": {
    "slideshow": {
     "slide_type": "slide"
    }
   },
   "source": [
    "## Смотрим работу с word2vec"
   ]
  },
  {
   "cell_type": "code",
   "execution_count": 35,
   "metadata": {
    "slideshow": {
     "slide_type": "skip"
    }
   },
   "outputs": [],
   "source": [
    "from nltk.stem.snowball import SnowballStemmer\n",
    "stemmer = SnowballStemmer(\"russian\")\n",
    "\n",
    "def levenshtein_distance(a, b):\n",
    "    \"Calculates the Levenshtein distance between a and b.\"\n",
    "    n, m = len(a), len(b)\n",
    "    if n > m:\n",
    "        # Make sure n <= m, to use O(min(n,m)) space\n",
    "        a, b = b, a\n",
    "        n, m = m, n\n",
    " \n",
    "    current_row = [(0, i, 0) for i in range(n + 1)]  # Keep current and previous row, not entire matrix\n",
    "    for i in range(1, m + 1):\n",
    "        previous_row, current_row = current_row, [(i, 0, 0)] + [(0, 0, 0)] * n\n",
    "        for j in range(1, n + 1):\n",
    "            add, delete, change = previous_row[j], current_row[j - 1], previous_row[j - 1]\n",
    "            add = (add[0] + 1, add[1], add[2])\n",
    "            delete = (delete[0], delete[1] + 1, delete[2])\n",
    "            if a[j - 1] != b[i - 1]:\n",
    "                change = (change[0], change[1], change[2] + 1)\n",
    "            current_row[j] = min(add, delete, change, key=lambda x: sum(x))\n",
    " \n",
    "    return current_row[n]\n",
    "\n",
    "def get_same_stem_russian(word1: str, word2: str) -> dict:\n",
    "    a = stemmer.stem(word1)\n",
    "    b = stemmer.stem(word2)\n",
    "\n",
    "    maxLen = max(len(a), len(b))\n",
    "    minLen = min(len(a), len(b))\n",
    "\n",
    "    add, delete, change = levenshtein_distance(a, b)\n",
    "    df = pd.DataFrame(data=[(maxLen, minLen, add, delete, change)],\n",
    "                      columns=['maxLen', 'minLen', 'add', 'delete', 'change'])\n",
    "\n",
    "    return int(grid.predict(df)[0])\n",
    "\n",
    "def assoc_list(word: str, topn=5) -> list:\n",
    "    arr = w2v_model.most_similar(positive=[word], topn=topn+25)\n",
    "    res = []\n",
    "    for i in arr:\n",
    "        flag = True\n",
    "        i_buf = i[0][:i[0].find(\"_\")]\n",
    "        for j in [(word, 1)] + res:\n",
    "            j_buf = j[0][:j[0].find(\"_\")]\n",
    "            if get_same_stem_russian(i_buf, j_buf) == 1:\n",
    "                flag = False\n",
    "        if flag:\n",
    "            res.append(i)\n",
    "    return res[:topn]"
   ]
  },
  {
   "cell_type": "code",
   "execution_count": 36,
   "metadata": {
    "slideshow": {
     "slide_type": "slide"
    }
   },
   "outputs": [
    {
     "data": {
      "text/plain": [
       "[('мурлыка_NOUN', 0.750743567943573),\n",
       " ('песик_NOUN', 0.7324872016906738),\n",
       " ('собака_NOUN', 0.6967058181762695),\n",
       " ('дворняга_NOUN', 0.6853429079055786),\n",
       " ('барбос_PROPN', 0.6534004211425781)]"
      ]
     },
     "execution_count": 36,
     "metadata": {},
     "output_type": "execute_result"
    }
   ],
   "source": [
    "assoc_list(\"кот_NOUN\")"
   ]
  },
  {
   "cell_type": "code",
   "execution_count": 37,
   "metadata": {
    "slideshow": {
     "slide_type": "fragment"
    }
   },
   "outputs": [
    {
     "data": {
      "text/plain": [
       "[('благодарить_VERB', 0.7789555788040161),\n",
       " ('респект_NOUN', 0.7257757782936096),\n",
       " ('умничек_NOUN', 0.6627355217933655),\n",
       " ('наташенька_NOUN', 0.6398230791091919),\n",
       " ('молодец_NOUN', 0.6347602009773254)]"
      ]
     },
     "execution_count": 37,
     "metadata": {},
     "output_type": "execute_result"
    }
   ],
   "source": [
    "assoc_list(\"спасибо_NOUN\")"
   ]
  },
  {
   "cell_type": "markdown",
   "metadata": {
    "slideshow": {
     "slide_type": "fragment"
    }
   },
   "source": [
    "> — Да? — обрадовался он. — Спасибо, Наташенька, спасибо!\n",
    ">\n",
    "> А потом он перестал ходить в столовую, и она узнала, что Ивана Ивановича избрали все-таки\n",
    "председателем райисполкома, а Полипов уехал на фронт.\n",
    ">\n",
    "> Анатолий Иванов, \"Вечный зов\""
   ]
  },
  {
   "cell_type": "code",
   "execution_count": 38,
   "metadata": {
    "slideshow": {
     "slide_type": "slide"
    }
   },
   "outputs": [
    {
     "data": {
      "text/plain": [
       "[('сталь_NOUN', 0.7909191846847534),\n",
       " ('aisi_X', 0.7570265531539917),\n",
       " ('латунь_NOUN', 0.7536624073982239),\n",
       " ('оцинковывать_VERB', 0.7415972948074341),\n",
       " ('высоколегированный_ADJ', 0.7156800031661987)]"
      ]
     },
     "execution_count": 38,
     "metadata": {},
     "output_type": "execute_result"
    }
   ],
   "source": [
    "assoc_list(\"нержавейка_NOUN\")"
   ]
  },
  {
   "cell_type": "markdown",
   "metadata": {
    "slideshow": {
     "slide_type": "fragment"
    }
   },
   "source": [
    "\"AISI\" — American Iron and Steel Institute"
   ]
  },
  {
   "cell_type": "code",
   "execution_count": 39,
   "metadata": {
    "slideshow": {
     "slide_type": "fragment"
    }
   },
   "outputs": [
    {
     "data": {
      "text/plain": [
       "[('тигр_NOUN', 0.5941218137741089),\n",
       " ('волк_NOUN', 0.574286699295044),\n",
       " ('бегемот_NOUN', 0.568387508392334),\n",
       " ('давыдович_PROPN', 0.5621633529663086),\n",
       " ('гиппопотам_NOUN', 0.5583033561706543)]"
      ]
     },
     "execution_count": 39,
     "metadata": {},
     "output_type": "execute_result"
    }
   ],
   "source": [
    "assoc_list(\"лев_NOUN\")"
   ]
  },
  {
   "cell_type": "markdown",
   "metadata": {
    "slideshow": {
     "slide_type": "fragment"
    }
   },
   "source": [
    "\"Нико__л__а**ев**ич\" исчез, зато появился \"Давыдович\"."
   ]
  },
  {
   "cell_type": "code",
   "execution_count": 40,
   "metadata": {
    "slideshow": {
     "slide_type": "slide"
    }
   },
   "outputs": [
    {
     "data": {
      "text/plain": [
       "[('боеголовка_NOUN', 0.7894258499145508),\n",
       " ('баллистический_ADJ', 0.756476879119873),\n",
       " ('противокорабельный_ADJ', 0.7446105480194092),\n",
       " ('брпл_X', 0.7339468002319336),\n",
       " ('боезаряд_NOUN', 0.6867998242378235)]"
      ]
     },
     "execution_count": 40,
     "metadata": {},
     "output_type": "execute_result"
    }
   ],
   "source": [
    "assoc_list(\"ракета_NOUN\")"
   ]
  },
  {
   "cell_type": "markdown",
   "metadata": {
    "slideshow": {
     "slide_type": "fragment"
    }
   },
   "source": [
    "\"БРПЛ\" — Баллистические ракеты подводных лодок"
   ]
  },
  {
   "cell_type": "code",
   "execution_count": 41,
   "metadata": {
    "slideshow": {
     "slide_type": "slide"
    }
   },
   "outputs": [
    {
     "data": {
      "text/plain": [
       "[('свежевыпавший_ADJ', 0.8001344799995422),\n",
       " ('метель_NOUN', 0.6585800647735596),\n",
       " ('слякоть_NOUN', 0.649728536605835),\n",
       " ('гололед_NOUN', 0.6453076004981995),\n",
       " ('изморозь_NOUN', 0.6323361992835999)]"
      ]
     },
     "execution_count": 41,
     "metadata": {},
     "output_type": "execute_result"
    }
   ],
   "source": [
    "assoc_list(\"снег_NOUN\")"
   ]
  },
  {
   "cell_type": "code",
   "execution_count": null,
   "metadata": {
    "slideshow": {
     "slide_type": "skip"
    }
   },
   "outputs": [],
   "source": []
  }
 ],
 "metadata": {
  "celltoolbar": "Slideshow",
  "kernelspec": {
   "display_name": "Python 3",
   "language": "python",
   "name": "python3"
  },
  "language_info": {
   "codemirror_mode": {
    "name": "ipython",
    "version": 3
   },
   "file_extension": ".py",
   "mimetype": "text/x-python",
   "name": "python",
   "nbconvert_exporter": "python",
   "pygments_lexer": "ipython3",
   "version": "3.6.3"
  }
 },
 "nbformat": 4,
 "nbformat_minor": 2
}
